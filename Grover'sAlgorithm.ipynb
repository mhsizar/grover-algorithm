{
  "nbformat": 4,
  "nbformat_minor": 0,
  "metadata": {
    "colab": {
      "provenance": [],
      "include_colab_link": true
    },
    "kernelspec": {
      "name": "python3",
      "display_name": "Python 3"
    },
    "language_info": {
      "name": "python"
    }
  },
  "cells": [
    {
      "cell_type": "markdown",
      "metadata": {
        "id": "view-in-github",
        "colab_type": "text"
      },
      "source": [
        "<a href=\"https://colab.research.google.com/github/mhsizar/grover-algorithm/blob/main/Grover'sAlgorithm.ipynb\" target=\"_parent\"><img src=\"https://colab.research.google.com/assets/colab-badge.svg\" alt=\"Open In Colab\"/></a>"
      ]
    },
    {
      "cell_type": "code",
      "execution_count": null,
      "metadata": {
        "id": "UHihWRpNV5ax",
        "colab": {
          "base_uri": "https://localhost:8080/"
        },
        "collapsed": true,
        "outputId": "aad66375-1933-4da5-f334-9c68d3650459"
      },
      "outputs": [
        {
          "output_type": "stream",
          "name": "stdout",
          "text": [
            "Requirement already satisfied: qiskit in /usr/local/lib/python3.10/dist-packages (1.1.0)\n",
            "Requirement already satisfied: qiskit-aer in /usr/local/lib/python3.10/dist-packages (0.14.1)\n",
            "Requirement already satisfied: qiskit-ibm-provider in /usr/local/lib/python3.10/dist-packages (0.11.0)\n",
            "Requirement already satisfied: numpy in /usr/local/lib/python3.10/dist-packages (1.25.2)\n",
            "Requirement already satisfied: matplotlib in /usr/local/lib/python3.10/dist-packages (3.7.1)\n",
            "Requirement already satisfied: rustworkx>=0.14.0 in /usr/local/lib/python3.10/dist-packages (from qiskit) (0.14.2)\n",
            "Requirement already satisfied: scipy>=1.5 in /usr/local/lib/python3.10/dist-packages (from qiskit) (1.11.4)\n",
            "Requirement already satisfied: sympy>=1.3 in /usr/local/lib/python3.10/dist-packages (from qiskit) (1.12)\n",
            "Requirement already satisfied: dill>=0.3 in /usr/local/lib/python3.10/dist-packages (from qiskit) (0.3.8)\n",
            "Requirement already satisfied: python-dateutil>=2.8.0 in /usr/local/lib/python3.10/dist-packages (from qiskit) (2.8.2)\n",
            "Requirement already satisfied: stevedore>=3.0.0 in /usr/local/lib/python3.10/dist-packages (from qiskit) (5.2.0)\n",
            "Requirement already satisfied: typing-extensions in /usr/local/lib/python3.10/dist-packages (from qiskit) (4.11.0)\n",
            "Requirement already satisfied: symengine>=0.11 in /usr/local/lib/python3.10/dist-packages (from qiskit) (0.11.0)\n",
            "Requirement already satisfied: psutil>=5 in /usr/local/lib/python3.10/dist-packages (from qiskit-aer) (5.9.5)\n",
            "Requirement already satisfied: requests>=2.19 in /usr/local/lib/python3.10/dist-packages (from qiskit-ibm-provider) (2.31.0)\n",
            "Requirement already satisfied: requests-ntlm>=1.1.0 in /usr/local/lib/python3.10/dist-packages (from qiskit-ibm-provider) (1.2.0)\n",
            "Requirement already satisfied: urllib3>=1.21.1 in /usr/local/lib/python3.10/dist-packages (from qiskit-ibm-provider) (2.0.7)\n",
            "Requirement already satisfied: websocket-client>=1.5.1 in /usr/local/lib/python3.10/dist-packages (from qiskit-ibm-provider) (1.8.0)\n",
            "Requirement already satisfied: websockets>=10.0 in /usr/local/lib/python3.10/dist-packages (from qiskit-ibm-provider) (12.0)\n",
            "Requirement already satisfied: contourpy>=1.0.1 in /usr/local/lib/python3.10/dist-packages (from matplotlib) (1.2.1)\n",
            "Requirement already satisfied: cycler>=0.10 in /usr/local/lib/python3.10/dist-packages (from matplotlib) (0.12.1)\n",
            "Requirement already satisfied: fonttools>=4.22.0 in /usr/local/lib/python3.10/dist-packages (from matplotlib) (4.51.0)\n",
            "Requirement already satisfied: kiwisolver>=1.0.1 in /usr/local/lib/python3.10/dist-packages (from matplotlib) (1.4.5)\n",
            "Requirement already satisfied: packaging>=20.0 in /usr/local/lib/python3.10/dist-packages (from matplotlib) (24.0)\n",
            "Requirement already satisfied: pillow>=6.2.0 in /usr/local/lib/python3.10/dist-packages (from matplotlib) (9.4.0)\n",
            "Requirement already satisfied: pyparsing>=2.3.1 in /usr/local/lib/python3.10/dist-packages (from matplotlib) (3.1.2)\n",
            "Requirement already satisfied: six>=1.5 in /usr/local/lib/python3.10/dist-packages (from python-dateutil>=2.8.0->qiskit) (1.16.0)\n",
            "Requirement already satisfied: charset-normalizer<4,>=2 in /usr/local/lib/python3.10/dist-packages (from requests>=2.19->qiskit-ibm-provider) (3.3.2)\n",
            "Requirement already satisfied: idna<4,>=2.5 in /usr/local/lib/python3.10/dist-packages (from requests>=2.19->qiskit-ibm-provider) (3.7)\n",
            "Requirement already satisfied: certifi>=2017.4.17 in /usr/local/lib/python3.10/dist-packages (from requests>=2.19->qiskit-ibm-provider) (2024.2.2)\n",
            "Requirement already satisfied: cryptography>=1.3 in /usr/local/lib/python3.10/dist-packages (from requests-ntlm>=1.1.0->qiskit-ibm-provider) (42.0.7)\n",
            "Requirement already satisfied: pyspnego>=0.1.6 in /usr/local/lib/python3.10/dist-packages (from requests-ntlm>=1.1.0->qiskit-ibm-provider) (0.10.2)\n",
            "Requirement already satisfied: pbr!=2.1.0,>=2.0.0 in /usr/local/lib/python3.10/dist-packages (from stevedore>=3.0.0->qiskit) (6.0.0)\n",
            "Requirement already satisfied: mpmath>=0.19 in /usr/local/lib/python3.10/dist-packages (from sympy>=1.3->qiskit) (1.3.0)\n",
            "Requirement already satisfied: cffi>=1.12 in /usr/local/lib/python3.10/dist-packages (from cryptography>=1.3->requests-ntlm>=1.1.0->qiskit-ibm-provider) (1.16.0)\n",
            "Requirement already satisfied: pycparser in /usr/local/lib/python3.10/dist-packages (from cffi>=1.12->cryptography>=1.3->requests-ntlm>=1.1.0->qiskit-ibm-provider) (2.22)\n"
          ]
        }
      ],
      "source": [
        "# Install necessary modules\n",
        "\n",
        "!pip install qiskit qiskit-aer qiskit-ibm-provider numpy matplotlib"
      ]
    },
    {
      "cell_type": "code",
      "source": [
        "# Call the libraries\n",
        "\n",
        "from qiskit import QuantumCircuit, transpile, assemble\n",
        "from qiskit_aer import Aer\n",
        "from qiskit_ibm_provider import IBMProvider, least_busy\n",
        "from qiskit.visualization import plot_histogram, circuit_drawer\n",
        "import numpy as np\n",
        "import matplotlib.pyplot as plt\n",
        "import time"
      ],
      "metadata": {
        "id": "HyB94I-oWBHr",
        "colab": {
          "base_uri": "https://localhost:8080/"
        },
        "outputId": "35bb238a-e4c0-42df-fe37-6b8a44662ed6"
      },
      "execution_count": null,
      "outputs": [
        {
          "output_type": "stream",
          "name": "stderr",
          "text": [
            "<ipython-input-3-73906bce1328>:5: DeprecationWarning: The package qiskit_ibm_provider is being deprecated. Please see https://docs.quantum.ibm.com/api/migration-guides/qiskit-runtime to get instructions on how to migrate to qiskit-ibm-runtime (https://github.com/Qiskit/qiskit-ibm-runtime).\n",
            "  from qiskit_ibm_provider import IBMProvider, least_busy\n"
          ]
        }
      ]
    },
    {
      "cell_type": "markdown",
      "source": [
        "## Classical Approach\n",
        "\n",
        "In classical search algorithm, the average search is N/2. Or in the worst case N. In this code we do a simple search problem of target = 15 from a list of 16 numbers. In the code output we can see the code's runtime, and number of iterations.\n"
      ],
      "metadata": {
        "id": "7Qthdxm9cemD"
      }
    },
    {
      "cell_type": "code",
      "source": [
        "# Define the classical search function:\n",
        "def classical_search(elements, target):\n",
        "  start_time = time.time() # Storing the beginning time to calculate runtime\n",
        "  iterations = 0\n",
        "  for index, element in enumerate(elements):\n",
        "    iterations +=1 # Increase the number of iteration at each step\n",
        "    if element == target:\n",
        "      end_time = time.time() # Stroring the search completion time to calculate runtime\n",
        "      return index, end_time - start_time, iterations\n",
        "  end_time = time.time()  # Stroing the end time of the fucntion call if the target is not found\n",
        "  return -1, end_time - start_time, iterations\n",
        "\n",
        "# Create a list of 16 elements and set the target element\n",
        "elements = [i for i in range(16)]\n",
        "target = 15\n",
        "\n",
        "# Perform the classical search approach\n",
        "index, classical_runtime, classical_iterations = classical_search(elements, target)\n",
        "\n",
        "# Print the result\n",
        "print(f\"Classical Search: Found target = {target} at index {index} in {classical_runtime} seconds after {classical_iterations} iterations\")"
      ],
      "metadata": {
        "colab": {
          "base_uri": "https://localhost:8080/"
        },
        "id": "XBqE2ZIsXJZX",
        "outputId": "b4b9f5ca-ceee-465a-ed0d-49f7af018253"
      },
      "execution_count": null,
      "outputs": [
        {
          "output_type": "stream",
          "name": "stdout",
          "text": [
            "Classical Search: Found target = 15 at index 15 in 3.5762786865234375e-06 seconds after 16 iterations\n"
          ]
        }
      ]
    },
    {
      "cell_type": "markdown",
      "source": [
        "## Quantum Approach"
      ],
      "metadata": {
        "id": "yVZo26Ubu43l"
      }
    },
    {
      "cell_type": "markdown",
      "source": [
        "In this section we try to solve the same search problem using Grover's algorithm. First, we implement the code using the QAS simulator from Qiskit. In the second implementation, we use the IBM Q API to run the code in a remote IBM quantum computer."
      ],
      "metadata": {
        "id": "-0CZUDjc6rNp"
      }
    },
    {
      "cell_type": "code",
      "source": [
        "# Define the oracle for the target state |1111> (binary quivalent of 15)\n",
        "def grover_oracle():\n",
        "  '''Oracle is a quantum circuit that marks a specific state as the solution to the search algorithm. This function defines the state |1111> as the solution'''\n",
        "  oracle = QuantumCircuit(4, name='oracle')  # Initialize a quantum circuit with 4 qubits (We have 16 elements and 2^4 = 16)\n",
        "  oracle.x(range(4))                         # Apply X gate to all 4 qubits turing |1111> into |0000>\n",
        "  oracle.h(3)                                # Apply a Hadamard gate to the last qubit (3) to create a superposition state for controlled operations\n",
        "  oracle.mcx([0, 1, 2], 3)                   # Apply a multi-controll X gate to flip the state of the target qubit (3) only if qubits 0, 1, and 2 are all in state |1>.\n",
        "  oracle.h(3)                                # Apply another Hadamard gate to the last qubit to complete the marking process\n",
        "  oracle.x(range(4))                         # Apply X gate to all 4 qubits again to revert them back to their original states\n",
        "  oracle = oracle.to_gate()                  # Convert the quntum circuit into a gate so that it can be appended to other circuits\n",
        "  return oracle\n",
        "\n",
        "\n",
        "# Define a function to implement Grover's algorithm\n",
        "def grover_circuit(n, oracle, iterations):\n",
        "  '''This function constructs a quantum circuit implementing Grover's algorithm for an n-qubit system with a specified oracle and number of iterations.'''\n",
        "  qc = QuantumCircuit(n)                   # Initialize a quantum circuit with n qubits\n",
        "  qc.h(range(n))                           # Apply Hadamard gate to all qubits to create a superposition for all possible states\n",
        "  # Perform the Grover iterations:\n",
        "  for _ in range(iterations):\n",
        "    qc.append(oracle, range(n))            # Apply the oracle to mark the solution state\n",
        "    #Apply the Grover diffusion operator\n",
        "    qc.h(range(n))\n",
        "    qc.x(range(4))\n",
        "    qc.h(n-1)\n",
        "    qc.mcx(list(range(n-1)), n-1)\n",
        "    qc.h(n-1)\n",
        "    qc.x(range(n))\n",
        "    qc.h(range(n))\n",
        "\n",
        "  return qc\n",
        "\n",
        "\n",
        "# Calculate the number of iterations\n",
        "n = 4\n",
        "N = 2**n\n",
        "quantum_iterations = int(np.floor(np.pi / 4 * np.sqrt(N)))\n",
        "\n",
        "# Create the Oracle and Grover circuit\n",
        "oracle = grover_oracle()\n",
        "grover = grover_circuit(4, oracle, quantum_iterations)"
      ],
      "metadata": {
        "id": "1Y8wrLpKu2hn"
      },
      "execution_count": null,
      "outputs": []
    },
    {
      "cell_type": "markdown",
      "source": [
        "## Run using Simulator\n",
        "\n",
        "We can implement the Grover's algoithm using the following Quantum simulator."
      ],
      "metadata": {
        "id": "J5NrWSDicr4i"
      }
    },
    {
      "cell_type": "code",
      "source": [
        "# Transpile the circuit for the simulator backend\n",
        "backend = Aer.get_backend('qasm_simulator')     # Quantum simulator backend by Qiskit\n",
        "tqcs = transpile(grover, backend)\n",
        "\n",
        "# Draw the circuit\n",
        "print(circuit_drawer(tqcs, output='text'))\n",
        "\n",
        "# Run the quantum circuit\n",
        "result = backend.run(tqcs).result()\n",
        "\n",
        "# Measure the runtime for the quantum apporach\n",
        "quantum_runtime = result.time_taken\n",
        "\n",
        "# Print the result\n",
        "print(f\"Quantum Search (Simulator): Time taken {quantum_runtime:.5f} seconds, number of iterations: {quantum_iterations}\")\n"
      ],
      "metadata": {
        "id": "CViyU-wPXyQu",
        "colab": {
          "base_uri": "https://localhost:8080/"
        },
        "outputId": "44cf099d-d99c-4b21-f182-4fdd573f880d"
      },
      "execution_count": null,
      "outputs": [
        {
          "output_type": "stream",
          "name": "stdout",
          "text": [
            "     ┌───┐┌───┐          ┌───┐┌───┐┌───┐               ┌───┐┌───┐┌───┐     »\n",
            "q_0: ┤ H ├┤ X ├───────■──┤ X ├┤ H ├┤ X ├────────────■──┤ X ├┤ H ├┤ X ├─────»\n",
            "     ├───┤├───┤       │  ├───┤├───┤├───┤            │  ├───┤├───┤├───┤     »\n",
            "q_1: ┤ H ├┤ X ├───────■──┤ X ├┤ H ├┤ X ├────────────■──┤ X ├┤ H ├┤ X ├─────»\n",
            "     ├───┤├───┤       │  ├───┤├───┤├───┤            │  ├───┤├───┤├───┤     »\n",
            "q_2: ┤ H ├┤ X ├───────■──┤ X ├┤ H ├┤ X ├────────────■──┤ X ├┤ H ├┤ X ├─────»\n",
            "     ├───┤├───┤┌───┐┌─┴─┐├───┤├───┤├───┤┌───┐┌───┐┌─┴─┐├───┤├───┤├───┤┌───┐»\n",
            "q_3: ┤ H ├┤ X ├┤ H ├┤ X ├┤ H ├┤ X ├┤ H ├┤ X ├┤ H ├┤ X ├┤ H ├┤ X ├┤ H ├┤ X ├»\n",
            "     └───┘└───┘└───┘└───┘└───┘└───┘└───┘└───┘└───┘└───┘└───┘└───┘└───┘└───┘»\n",
            "«               ┌───┐┌───┐┌───┐               ┌───┐┌───┐┌───┐               »\n",
            "«q_0: ───────■──┤ X ├┤ H ├┤ X ├────────────■──┤ X ├┤ H ├┤ X ├────────────■──»\n",
            "«            │  ├───┤├───┤├───┤            │  ├───┤├───┤├───┤            │  »\n",
            "«q_1: ───────■──┤ X ├┤ H ├┤ X ├────────────■──┤ X ├┤ H ├┤ X ├────────────■──»\n",
            "«            │  ├───┤├───┤├───┤            │  ├───┤├───┤├───┤            │  »\n",
            "«q_2: ───────■──┤ X ├┤ H ├┤ X ├────────────■──┤ X ├┤ H ├┤ X ├────────────■──»\n",
            "«     ┌───┐┌─┴─┐├───┤├───┤├───┤┌───┐┌───┐┌─┴─┐├───┤├───┤├───┤┌───┐┌───┐┌─┴─┐»\n",
            "«q_3: ┤ H ├┤ X ├┤ H ├┤ X ├┤ H ├┤ X ├┤ H ├┤ X ├┤ H ├┤ X ├┤ H ├┤ X ├┤ H ├┤ X ├»\n",
            "«     └───┘└───┘└───┘└───┘└───┘└───┘└───┘└───┘└───┘└───┘└───┘└───┘└───┘└───┘»\n",
            "«     ┌───┐┌───┐┌───┐               ┌───┐┌───┐     \n",
            "«q_0: ┤ X ├┤ H ├┤ X ├────────────■──┤ X ├┤ H ├─────\n",
            "«     ├───┤├───┤├───┤            │  ├───┤├───┤     \n",
            "«q_1: ┤ X ├┤ H ├┤ X ├────────────■──┤ X ├┤ H ├─────\n",
            "«     ├───┤├───┤├───┤            │  ├───┤├───┤     \n",
            "«q_2: ┤ X ├┤ H ├┤ X ├────────────■──┤ X ├┤ H ├─────\n",
            "«     ├───┤├───┤├───┤┌───┐┌───┐┌─┴─┐├───┤├───┤┌───┐\n",
            "«q_3: ┤ H ├┤ X ├┤ H ├┤ X ├┤ H ├┤ X ├┤ H ├┤ X ├┤ H ├\n",
            "«     └───┘└───┘└───┘└───┘└───┘└───┘└───┘└───┘└───┘\n",
            "Quantum Search (Simulator): Time taken 0.01332 seconds, number of iterations: 3\n"
          ]
        }
      ]
    },
    {
      "cell_type": "markdown",
      "source": [
        "## Run using IBM Quantum Computer\n",
        "\n",
        "We can implement the Grover's algoithm using Quantum Computers at IBM through API calls"
      ],
      "metadata": {
        "id": "QdSBnruWr5Zh"
      }
    },
    {
      "cell_type": "code",
      "source": [
        "# Replace myAPI value with your IBM Quantum API token generated from https://quantum.ibm.com/\n",
        "myAPI = '078b489afdf77d18d7ce8ee8b9799ae82cb12ad3d85a981a6808424f78f553550f0d703af651e512ca8a340622f548a7df652d7a63ba140fb813eac1a3d85e50'"
      ],
      "metadata": {
        "id": "13x2B5RtsugQ"
      },
      "execution_count": null,
      "outputs": []
    },
    {
      "cell_type": "code",
      "source": [
        "# Load IBM Q account\n",
        "IBMProvider.save_account(myAPI, overwrite=True)\n",
        "provider = IBMProvider()\n",
        "\n",
        "# Get the least busy backend device with at least 4 qubits\n",
        "device = least_busy(provider.backends(filters=lambda x: x.configuration().n_qubits >= 4 and not x.configuration().simulator and x.status().operational==True))\n",
        "print(f\"Running on current least busy device: {device}\")"
      ],
      "metadata": {
        "colab": {
          "base_uri": "https://localhost:8080/"
        },
        "id": "HxuNVTvtmHG0",
        "outputId": "d2991879-13af-4fb0-c69a-af827e6935c6"
      },
      "execution_count": null,
      "outputs": [
        {
          "output_type": "stream",
          "name": "stdout",
          "text": [
            "Running on current least busy device: <IBMBackend('ibm_osaka')>\n"
          ]
        }
      ]
    },
    {
      "cell_type": "code",
      "source": [
        "# Transpile the circuit for the selected backend device\n",
        "tqcd = transpile(grover, device)\n",
        "\n",
        "# Draw the circuit\n",
        "print(circuit_drawer(tqcd, output='text'))\n",
        "\n",
        "# Run the quantum circuit on the actual quantum device\n",
        "job = device.run(tqcd)"
      ],
      "metadata": {
        "colab": {
          "base_uri": "https://localhost:8080/"
        },
        "id": "4Mjfv2ztukhk",
        "outputId": "a2ae6133-3050-408a-f2d9-43a0b5f829f8"
      },
      "execution_count": null,
      "outputs": [
        {
          "output_type": "stream",
          "name": "stderr",
          "text": [
            "IOPub data rate exceeded.\n",
            "The notebook server will temporarily stop sending output\n",
            "to the client in order to avoid crashing it.\n",
            "To change this limit, set the config variable\n",
            "`--NotebookApp.iopub_data_rate_limit`.\n",
            "\n",
            "Current values:\n",
            "NotebookApp.iopub_data_rate_limit=1000000.0 (bytes/sec)\n",
            "NotebookApp.rate_limit_window=3.0 (secs)\n",
            "\n"
          ]
        }
      ]
    },
    {
      "cell_type": "markdown",
      "source": [
        "Check the job status here: https://quantum.ibm.com/"
      ],
      "metadata": {
        "id": "9vzoTTdxwu2n"
      }
    },
    {
      "cell_type": "code",
      "source": [
        "# Wait for the job to complete\n",
        "while not job.done():\n",
        "    print(\"Job is not done yet, checking again in 30 seconds...\")\n",
        "    time.sleep(30)\n",
        "\n",
        "# Get the result\n",
        "result = job.result()\n",
        "\n",
        "# Measure the runtime for the quantum approach\n",
        "quantum_runtime = result.time_taken\n",
        "\n",
        "# Get the counts\n",
        "counts = result.get_counts()\n",
        "\n",
        "# Plot the histogram\n",
        "plot_histogram(counts)\n",
        "plt.show()\n",
        "\n",
        "# Print the results\n",
        "print(f\"Quantum Search (Using IBM Quantum Device): Time taken {quantum_runtime:.5f} seconds, number of iterations {quantum_iterations}\")"
      ],
      "metadata": {
        "colab": {
          "base_uri": "https://localhost:8080/"
        },
        "id": "6mjxubVBw0tR",
        "outputId": "8124e134-eca5-4119-dc59-67956054b18a"
      },
      "execution_count": null,
      "outputs": [
        {
          "output_type": "stream",
          "name": "stdout",
          "text": [
            "Quantum Search (Using IBM Quantum Device): Time taken 4.01711 seconds, number of iterations 3\n"
          ]
        }
      ]
    },
    {
      "cell_type": "markdown",
      "source": [
        "# Explorations\n",
        "\n",
        "From the code above and the search algorithms we can see that the quantum algorithm is definitely using less iterations compared to the classical search algorithm. However the runtime is not correct since we are not using a quantum computer directly. This stands as a proof to grover's algorithm's superiority over the classical search algorithm.\n",
        "\n"
      ],
      "metadata": {
        "id": "yP5n6Pc3xXmm"
      }
    }
  ]
}